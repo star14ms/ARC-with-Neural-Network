{
 "cells": [
  {
   "cell_type": "markdown",
   "metadata": {},
   "source": [
    "# ARC Specific-AI Model Performance!"
   ]
  },
  {
   "cell_type": "code",
   "execution_count": null,
   "metadata": {},
   "outputs": [],
   "source": [
    "import os\n",
    "import sys\n",
    "sys.path.append(os.path.abspath(os.path.join(os.getcwd(), os.pardir)))\n",
    "\n",
    "import warnings\n",
    "import json\n",
    "import torch\n",
    "import matplotlib.pyplot as plt\n",
    "from matplotlib import colors\n",
    "try:\n",
    "  from rich import print\n",
    "except:\n",
    "  pass\n",
    "\n",
    "\n",
    "file_path = '../../outputs/2024-08-17/18-17-24/test_results.json' # Change filepath to your test_results.json\n",
    "\n",
    "COLORS = [\n",
    "  '#000000', '#0074D9', '#FF4136', '#2ECC40', '#FFDC00',\n",
    "  '#AAAAAA', '#F012BE', '#FF851B', '#7FDBFF', '#870C25'\n",
    "]"
   ]
  },
  {
   "cell_type": "code",
   "execution_count": null,
   "metadata": {},
   "outputs": [],
   "source": [
    "def plot_single_image(matrix, ax, title, cmap, norm):\n",
    "    ax.imshow(matrix, cmap=cmap, norm=norm)\n",
    "    ax.grid(True, which='both', color='lightgrey', linewidth = 0.5)\n",
    "    \n",
    "    plt.setp(plt.gcf().get_axes(), xticklabels=[], yticklabels=[])\n",
    "    ax.set_xticks([x-0.5 for x in range(1 + len(matrix[0]))])     \n",
    "    ax.set_yticks([x-0.5 for x in range(1 + len(matrix))])\n",
    "    \n",
    "    ax.set_title(title, fontweight='bold')\n",
    "\n",
    "\n",
    "def plot_xytc(*images, task_id, titles=['Input', 'Predicted', 'Answer', 'Correct']):\n",
    "    \"\"\"Plots the input, predicted, and answer pairs of a specified task, using the ARC color scheme.\"\"\"\n",
    "    num_img = len(images)\n",
    "    \n",
    "    fig, axs = plt.subplots(1, num_img, figsize=(len(images)*3, 3))\n",
    "    plt.suptitle(f'Task {task_id}', fontsize=20, fontweight='bold', y=0.96)\n",
    "\n",
    "    # If there's only one image, axs may not be an array\n",
    "    if num_img == 1:\n",
    "        axs = [axs]  # Make it array\n",
    "\n",
    "    cmap = colors.ListedColormap(COLORS)\n",
    "    norm = colors.Normalize(vmin=0, vmax=9)\n",
    "    \n",
    "    images = [image.detach().cpu().squeeze(0).long() if isinstance(image, torch.Tensor) else torch.tensor(image) for image in images if image is not None]\n",
    "    images = [torch.argmax(image, dim=0) if len(image.shape) > 2 else image for image in images]\n",
    "\n",
    "    for i in range(num_img):\n",
    "        if num_img > 2 and num_img < 5:\n",
    "            i = 2 if i == 1 else 1 if i == 2 else i\n",
    "        plot_single_image(images[i], axs[i], titles[i], cmap, norm)\n",
    "    \n",
    "    fig.patch.set_linewidth(5)\n",
    "    fig.patch.set_edgecolor('black')\n",
    "    fig.patch.set_facecolor('#dddddd')\n",
    "\n",
    "    fig.tight_layout()\n",
    "    plt.show()\n",
    "\n",
    "\n",
    "def plot_xytc_from_json(file_path='./output/test_results.json', titles=['Input', 'Output', 'Answer', 'Correct'], keys_json=['input', 'output', 'target', 'correct_pixels'], plot_only_correct=False, top_k=2, total=400, change_order_1_2=True, verbose=False):\n",
    "    results = json.load(open(file_path, 'r'))\n",
    "    print('Hyperparameters:', results['hparams'])\n",
    "    results = results['results']\n",
    "\n",
    "    exist_label = list(results.values())[0][0][0].get('target') is not None\n",
    "    assert not plot_only_correct or exist_label, 'The results do not contain answer.'\n",
    "    if len(list(results.values())[0][0]) < top_k:\n",
    "        warnings.warn(f'Top-k is set to {top_k} but the number of trials is {len(list(results.values())[0][0])}, less than {top_k}.')\n",
    "\n",
    "    if exist_label:\n",
    "        if change_order_1_2:\n",
    "            titles[1], titles[2] = titles[2], titles[1]\n",
    "            keys_json[1], keys_json[2] = keys_json[2], keys_json[1]\n",
    "\n",
    "        task_ids_correct = [key for key, task_result in results.items() if \\\n",
    "            all(any(\n",
    "                all(all(pixel == 3 for pixel in row) for row in trial['correct_pixels'])\n",
    "                    for trial in trials[:top_k if len(trials) >= top_k else len(trials)]) for trials in task_result)\n",
    "        ]\n",
    "        print('N Submittable: {} | N Total: {} | N Correct: {} | Accuracy: {:.2f}%'. format(len(results), total, len(task_ids_correct), len(task_ids_correct)/total*100))\n",
    "    else:\n",
    "        print('N Submittable: {} | N Total: {}'.format(len(results), total))\n",
    "\n",
    "    for task_id, task_result in results.items():\n",
    "        if plot_only_correct and task_id not in task_ids_correct:\n",
    "            continue\n",
    "\n",
    "        for i, trials in enumerate(task_result):\n",
    "            for j, trial in enumerate(trials):\n",
    "                if j == top_k:\n",
    "                    break\n",
    "\n",
    "                if verbose:\n",
    "                    hparmas_ids = trial['hparams_ids']\n",
    "                    print(f'Task {task_id} | Test {i+1} | hparams_ids: {hparmas_ids}')\n",
    "\n",
    "                images = [trial[key] for key in keys_json if key in trial]\n",
    "                plot_xytc(*images, task_id=task_id, titles=titles)\n"
   ]
  },
  {
   "cell_type": "markdown",
   "metadata": {},
   "source": [
    "## Only Tasks got Correct"
   ]
  },
  {
   "cell_type": "code",
   "execution_count": null,
   "metadata": {},
   "outputs": [],
   "source": [
    "plot_xytc_from_json(file_path, plot_only_correct=True, top_k=2, total=400, verbose=True)"
   ]
  },
  {
   "cell_type": "markdown",
   "metadata": {},
   "source": [
    "## All Tasks"
   ]
  },
  {
   "cell_type": "code",
   "execution_count": null,
   "metadata": {},
   "outputs": [],
   "source": [
    "plot_xytc_from_json(file_path, plot_only_correct=False, top_k=1, total=400)"
   ]
  }
 ],
 "metadata": {
  "kernelspec": {
   "display_name": "arc-prize-2024",
   "language": "python",
   "name": "python3"
  },
  "language_info": {
   "codemirror_mode": {
    "name": "ipython",
    "version": 3
   },
   "file_extension": ".py",
   "mimetype": "text/x-python",
   "name": "python",
   "nbconvert_exporter": "python",
   "pygments_lexer": "ipython3",
   "version": "3.11.9"
  }
 },
 "nbformat": 4,
 "nbformat_minor": 2
}
