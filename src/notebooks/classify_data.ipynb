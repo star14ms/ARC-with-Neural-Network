{
 "cells": [
  {
   "cell_type": "code",
   "execution_count": null,
   "metadata": {},
   "outputs": [],
   "source": [
    "import os\n",
    "import sys\n",
    "sys.path.append(os.path.abspath(os.path.join(os.getcwd(), os.pardir)))\n",
    "\n",
    "from data import ARCDataset\n",
    "from rich import print\n",
    "from arc.utils.visualize import plot_task\n",
    "from arc.constants import get_challenges_solutions_filepath\n",
    "from classify import ARCDataClassifier\n",
    "\n",
    "\n",
    "challenges, solutions = get_challenges_solutions_filepath(data_category='train', base_path='../../data/arc-prize-2024/')\n",
    "\n",
    "filter_funcs = (\n",
    "        # ARCDataClassifier.in_data_codes_f(['00d62c1b']),\n",
    "        ARCDataClassifier.is_same_shape_f(True),\n",
    "        ARCDataClassifier.is_n_color_stable_f(1),\n",
    "        # ARCDataClassifier.is_same_number_of_colors_f(True),\n",
    "        ARCDataClassifier.is_same_colors_f(False),\n",
    "        # ARCDataClassifier.is_dominent_color_stable_f(True)\n",
    ")\n",
    "\n",
    "# Example usage\n",
    "dataset_train = ARCDataset(challenges, solutions, train=True, one_hot=False, filter_funcs=filter_funcs)\n",
    "dataset_test = ARCDataset(challenges, solutions, train=False, one_hot=False, filter_funcs=filter_funcs)\n",
    "print(f'Data size: {len(dataset_train)}')\n",
    "\n",
    "print(*[dataset_train.task_id(i) for i in range(len(dataset_train))])\n",
    "\n",
    "# Visualize a task\n",
    "for index in range(len(dataset_train)):\n",
    "    # xs = [task[0] for task in dataset_train[index]]\n",
    "    # ys = [task[1] for task in dataset_train[index]]\n",
    "    plot_task(dataset_train, dataset_test, index, data_category='train')"
   ]
  }
 ],
 "metadata": {
  "kernelspec": {
   "display_name": "arc-prize-2024",
   "language": "python",
   "name": "python3"
  },
  "language_info": {
   "codemirror_mode": {
    "name": "ipython",
    "version": 3
   },
   "file_extension": ".py",
   "mimetype": "text/x-python",
   "name": "python",
   "nbconvert_exporter": "python",
   "pygments_lexer": "ipython3",
   "version": "3.11.9"
  }
 },
 "nbformat": 4,
 "nbformat_minor": 2
}
