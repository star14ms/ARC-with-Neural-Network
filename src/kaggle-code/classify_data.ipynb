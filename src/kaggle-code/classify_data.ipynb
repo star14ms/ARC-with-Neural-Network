{
 "cells": [
  {
   "cell_type": "code",
   "execution_count": 2,
   "metadata": {},
   "outputs": [],
   "source": [
    "import os\n",
    "import sys\n",
    "sys.path.append(os.path.abspath(os.path.join(os.getcwd(), os.pardir)))"
   ]
  },
  {
   "cell_type": "code",
   "execution_count": 4,
   "metadata": {},
   "outputs": [
    {
     "ename": "ImportError",
     "evalue": "cannot import name 'get_challenges_solutions_filepath' from 'data' (/Users/minseo/Documents/Github/ARC-Prize-2024/src/data.py)",
     "output_type": "error",
     "traceback": [
      "\u001b[0;31m---------------------------------------------------------------------------\u001b[0m",
      "\u001b[0;31mImportError\u001b[0m                               Traceback (most recent call last)",
      "Cell \u001b[0;32mIn[4], line 4\u001b[0m\n\u001b[1;32m      2\u001b[0m \u001b[38;5;28;01mfrom\u001b[39;00m \u001b[38;5;21;01mrich\u001b[39;00m \u001b[38;5;28;01mimport\u001b[39;00m \u001b[38;5;28mprint\u001b[39m\n\u001b[1;32m      3\u001b[0m \u001b[38;5;28;01mfrom\u001b[39;00m \u001b[38;5;21;01mutils\u001b[39;00m\u001b[38;5;21;01m.\u001b[39;00m\u001b[38;5;21;01mvisualize\u001b[39;00m \u001b[38;5;28;01mimport\u001b[39;00m plot_task\n\u001b[0;32m----> 4\u001b[0m \u001b[38;5;28;01mfrom\u001b[39;00m \u001b[38;5;21;01mdata\u001b[39;00m \u001b[38;5;28;01mimport\u001b[39;00m get_challenges_solutions_filepath\n\u001b[1;32m      5\u001b[0m \u001b[38;5;28;01mfrom\u001b[39;00m \u001b[38;5;21;01mclassify\u001b[39;00m \u001b[38;5;28;01mimport\u001b[39;00m ARCDataClassifier\n\u001b[1;32m      8\u001b[0m challenges, solutions \u001b[38;5;241m=\u001b[39m get_challenges_solutions_filepath(data_category\u001b[38;5;241m=\u001b[39m\u001b[38;5;124m'\u001b[39m\u001b[38;5;124mtrain\u001b[39m\u001b[38;5;124m'\u001b[39m, base_path\u001b[38;5;241m=\u001b[39m\u001b[38;5;124m'\u001b[39m\u001b[38;5;124m../../data/arc-prize-2024/\u001b[39m\u001b[38;5;124m'\u001b[39m)\n",
      "\u001b[0;31mImportError\u001b[0m: cannot import name 'get_challenges_solutions_filepath' from 'data' (/Users/minseo/Documents/Github/ARC-Prize-2024/src/data.py)"
     ]
    }
   ],
   "source": [
    "from data import ARCDataset\n",
    "from rich import print\n",
    "from utils.visualize import plot_task\n",
    "from constants import get_challenges_solutions_filepath\n",
    "from classify import ARCDataClassifier\n",
    "\n",
    "\n",
    "challenges, solutions = get_challenges_solutions_filepath(data_category='train', base_path='../../data/arc-prize-2024/')\n",
    "\n",
    "filter_funcs = (\n",
    "    ARCDataClassifier.is_same_shape_f(True),\n",
    "    # ARCDataClassifier.is_n_m_colored_in_out_f(2, 3),\n",
    "    # ARCDataClassifier.is_dominent_color_stable_f(True),\n",
    "    # ARCDataClassifier.are_input_output_similar_f(0.9)\n",
    ")\n",
    "\n",
    "# Example usage\n",
    "dataset_train = ARCDataset(challenges, solutions, train=True, one_hot=False, filter_funcs=filter_funcs)\n",
    "dataset_test = ARCDataset(challenges, solutions, train=False, one_hot=False, filter_funcs=filter_funcs)\n",
    "print(f'Data size: {len(dataset_train)}')\n",
    "\n",
    "# Visualize a task\n",
    "for index in range(len(dataset_train)):\n",
    "    # xs = [task[0] for task in dataset_train[index]]\n",
    "    # ys = [task[1] for task in dataset_train[index]]\n",
    "    plot_task(dataset_train, dataset_test, index, data_category='train')"
   ]
  }
 ],
 "metadata": {
  "kernelspec": {
   "display_name": "arc-prize-2024",
   "language": "python",
   "name": "python3"
  },
  "language_info": {
   "codemirror_mode": {
    "name": "ipython",
    "version": 3
   },
   "file_extension": ".py",
   "mimetype": "text/x-python",
   "name": "python",
   "nbconvert_exporter": "python",
   "pygments_lexer": "ipython3",
   "version": "3.11.9"
  }
 },
 "nbformat": 4,
 "nbformat_minor": 2
}
